{
 "cells": [
  {
   "cell_type": "code",
   "execution_count": null,
   "id": "3d7e7c4d",
   "metadata": {},
   "outputs": [],
   "source": [
    "!pip install agent-framework --pre"
   ]
  },
  {
   "cell_type": "code",
   "execution_count": 3,
   "id": "e7d5f108",
   "metadata": {},
   "outputs": [
    {
     "ename": "ModuleNotFoundError",
     "evalue": "No module named 'agent_framework'",
     "output_type": "error",
     "traceback": [
      "\u001b[1;31m---------------------------------------------------------------------------\u001b[0m",
      "\u001b[1;31mModuleNotFoundError\u001b[0m                       Traceback (most recent call last)",
      "Cell \u001b[1;32mIn[3], line 2\u001b[0m\n\u001b[0;32m      1\u001b[0m \u001b[38;5;28;01mimport\u001b[39;00m \u001b[38;5;21;01masyncio\u001b[39;00m  \n\u001b[1;32m----> 2\u001b[0m \u001b[38;5;28;01mfrom\u001b[39;00m \u001b[38;5;21;01magent_framework\u001b[39;00m \u001b[38;5;28;01mimport\u001b[39;00m ChatAgent, HostedFileSearchTool  \n\u001b[0;32m      3\u001b[0m \u001b[38;5;28;01mfrom\u001b[39;00m \u001b[38;5;21;01magent_framework_azure_ai\u001b[39;00m \u001b[38;5;28;01mimport\u001b[39;00m AzureAIAgentClient  \n\u001b[0;32m      4\u001b[0m \u001b[38;5;28;01mfrom\u001b[39;00m \u001b[38;5;21;01mazure\u001b[39;00m\u001b[38;5;21;01m.\u001b[39;00m\u001b[38;5;21;01midentity\u001b[39;00m\u001b[38;5;21;01m.\u001b[39;00m\u001b[38;5;21;01maio\u001b[39;00m \u001b[38;5;28;01mimport\u001b[39;00m AzureCliCredential  \n",
      "\u001b[1;31mModuleNotFoundError\u001b[0m: No module named 'agent_framework'"
     ]
    }
   ],
   "source": [
    "import asyncio  \n",
    "from agent_framework import ChatAgent, HostedFileSearchTool  \n",
    "from agent_framework_azure_ai import AzureAIAgentClient  \n",
    "from azure.identity.aio import AzureCliCredential  \n",
    "  \n",
    "async def main():  \n",
    "    # Create file search tool with your Azure AI Search index  \n",
    "    file_search_tool = HostedFileSearchTool(  \n",
    "        additional_properties={  \n",
    "            \"index_name\": \"contoso-hr\",  \n",
    "            \"top_k\": 3  \n",
    "        }  \n",
    "    )  \n",
    "      \n",
    "    # Create agent with Azure AI Search RAG capabilities  \n",
    "    async with ChatAgent(  \n",
    "        chat_client=AzureAIAgentClient(async_credential=AzureCliCredential()),  \n",
    "        instructions=\"You are a helpful HR assistant that can search through company documents.\",  \n",
    "        tools=[file_search_tool]  \n",
    "    ) as agent:  \n",
    "        # Ask a question that will trigger RAG search  \n",
    "        response = await agent.run(\"What is our vacation policy?\")  \n",
    "        print(f\"Agent: {response.text}\")  \n",
    "  \n",
    "if __name__ == \"__main__\":  \n",
    "    asyncio.run(main())"
   ]
  }
 ],
 "metadata": {
  "kernelspec": {
   "display_name": "Python 3",
   "language": "python",
   "name": "python3"
  },
  "language_info": {
   "codemirror_mode": {
    "name": "ipython",
    "version": 3
   },
   "file_extension": ".py",
   "mimetype": "text/x-python",
   "name": "python",
   "nbconvert_exporter": "python",
   "pygments_lexer": "ipython3",
   "version": "3.11.9"
  }
 },
 "nbformat": 4,
 "nbformat_minor": 5
}
